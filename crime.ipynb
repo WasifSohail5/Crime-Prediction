{
 "cells": [
  {
   "cell_type": "code",
   "id": "initial_id",
   "metadata": {
    "collapsed": true,
    "ExecuteTime": {
     "end_time": "2025-05-26T16:22:29.030796Z",
     "start_time": "2025-05-26T16:22:23.095317Z"
    }
   },
   "source": [
    "import pandas as pd\n",
    "import numpy as np\n",
    "from sklearn.preprocessing import OneHotEncoder\n",
    "import torch\n",
    "import torch.nn as nn\n",
    "import torch.optim as optim\n",
    "from torch.utils.data import DataLoader, TensorDataset"
   ],
   "outputs": [],
   "execution_count": 1
  },
  {
   "metadata": {
    "ExecuteTime": {
     "end_time": "2025-05-26T16:25:25.472224Z",
     "start_time": "2025-05-26T16:25:19.852835Z"
    }
   },
   "cell_type": "code",
   "source": [
    "df=pd.read_csv(\"RMS_Crime_Incidents.csv\")\n",
    "df.head()"
   ],
   "id": "8b3de8863f72a067",
   "outputs": [
    {
     "name": "stderr",
     "output_type": "stream",
     "text": [
      "C:\\Users\\wasif\\AppData\\Local\\Temp\\ipykernel_10360\\1431475646.py:1: DtypeWarning: Columns (7) have mixed types. Specify dtype option on import or set low_memory=False.\n",
      "  df=pd.read_csv(\"RMS_Crime_Incidents.csv\")\n"
     ]
    },
    {
     "data": {
      "text/plain": [
       "           X          Y incident_entry_id          nearest_intersection  \\\n",
       "0 -82.925829  42.411686       567921-5201  Hereford St & Southampton St   \n",
       "1 -83.220482  42.334485       510658-1301         Faust Ave & Dayton St   \n",
       "2 -83.160724  42.424184       567826-2099        Curtis St & Wyoming St   \n",
       "3 -83.247337  42.426946       588395-2900       Clarita St & Pierson St   \n",
       "4 -83.168461  42.380601       567931-5201   Meyers Rd & Grand River Ave   \n",
       "\n",
       "     offense_category                 offense_description  state_offense_code  \\\n",
       "0    WEAPONS OFFENSES         WEAPONS OFFENSE - CONCEALED                5201   \n",
       "1             ASSAULT  ASSAULT AND BATTERY/SIMPLE ASSAULT                1301   \n",
       "2               ARSON                               ARSON                2099   \n",
       "3  DAMAGE TO PROPERTY                  DAMAGE TO PROPERTY                2900   \n",
       "4    WEAPONS OFFENSES         WEAPONS OFFENSE - CONCEALED                5201   \n",
       "\n",
       "  arrest_charge                  charge_description    incident_occurred_at  \\\n",
       "0         52001         WEAPONS OFFENSE - CONCEALED  2020/08/20 18:12:00+00   \n",
       "1         13001  ASSAULT AND BATTERY/SIMPLE ASSAULT  2020/03/18 18:28:00+00   \n",
       "2         20000                               ARSON  2020/08/20 09:07:00+00   \n",
       "3         29000                  DAMAGE TO PROPERTY  2020/10/10 14:20:00+00   \n",
       "4         52001         WEAPONS OFFENSE - CONCEALED  2020/08/20 17:00:00+00   \n",
       "\n",
       "   ... report_number  scout_car_area  police_precinct  \\\n",
       "0  ...    2008200208            0505               05   \n",
       "1  ...    2003180193            0612               06   \n",
       "2  ...    2008200067            1207               12   \n",
       "3  ...    2010100129            0806               08   \n",
       "4  ...    2008200176            0205               02   \n",
       "\n",
       "   census_block_2020_geoid          neighborhood council_district zip_code  \\\n",
       "0             2.616350e+14   Cornerstone Village              4.0  48224.0   \n",
       "1             2.616355e+14            Warrendale              7.0  48228.0   \n",
       "2             2.616354e+14               Schulze              2.0  48221.0   \n",
       "3             2.616354e+14     Holcomb Community              1.0  48219.0   \n",
       "4             2.616354e+14  Pride Area Community              7.0  48227.0   \n",
       "\n",
       "   longitude   latitude  ESRI_OID  \n",
       "0 -82.925829  42.411686         1  \n",
       "1 -83.220482  42.334485         2  \n",
       "2 -83.160724  42.424184         3  \n",
       "3 -83.247337  42.426946         4  \n",
       "4 -83.168461  42.380601         5  \n",
       "\n",
       "[5 rows x 30 columns]"
      ],
      "text/html": [
       "<div>\n",
       "<style scoped>\n",
       "    .dataframe tbody tr th:only-of-type {\n",
       "        vertical-align: middle;\n",
       "    }\n",
       "\n",
       "    .dataframe tbody tr th {\n",
       "        vertical-align: top;\n",
       "    }\n",
       "\n",
       "    .dataframe thead th {\n",
       "        text-align: right;\n",
       "    }\n",
       "</style>\n",
       "<table border=\"1\" class=\"dataframe\">\n",
       "  <thead>\n",
       "    <tr style=\"text-align: right;\">\n",
       "      <th></th>\n",
       "      <th>X</th>\n",
       "      <th>Y</th>\n",
       "      <th>incident_entry_id</th>\n",
       "      <th>nearest_intersection</th>\n",
       "      <th>offense_category</th>\n",
       "      <th>offense_description</th>\n",
       "      <th>state_offense_code</th>\n",
       "      <th>arrest_charge</th>\n",
       "      <th>charge_description</th>\n",
       "      <th>incident_occurred_at</th>\n",
       "      <th>...</th>\n",
       "      <th>report_number</th>\n",
       "      <th>scout_car_area</th>\n",
       "      <th>police_precinct</th>\n",
       "      <th>census_block_2020_geoid</th>\n",
       "      <th>neighborhood</th>\n",
       "      <th>council_district</th>\n",
       "      <th>zip_code</th>\n",
       "      <th>longitude</th>\n",
       "      <th>latitude</th>\n",
       "      <th>ESRI_OID</th>\n",
       "    </tr>\n",
       "  </thead>\n",
       "  <tbody>\n",
       "    <tr>\n",
       "      <th>0</th>\n",
       "      <td>-82.925829</td>\n",
       "      <td>42.411686</td>\n",
       "      <td>567921-5201</td>\n",
       "      <td>Hereford St &amp; Southampton St</td>\n",
       "      <td>WEAPONS OFFENSES</td>\n",
       "      <td>WEAPONS OFFENSE - CONCEALED</td>\n",
       "      <td>5201</td>\n",
       "      <td>52001</td>\n",
       "      <td>WEAPONS OFFENSE - CONCEALED</td>\n",
       "      <td>2020/08/20 18:12:00+00</td>\n",
       "      <td>...</td>\n",
       "      <td>2008200208</td>\n",
       "      <td>0505</td>\n",
       "      <td>05</td>\n",
       "      <td>2.616350e+14</td>\n",
       "      <td>Cornerstone Village</td>\n",
       "      <td>4.0</td>\n",
       "      <td>48224.0</td>\n",
       "      <td>-82.925829</td>\n",
       "      <td>42.411686</td>\n",
       "      <td>1</td>\n",
       "    </tr>\n",
       "    <tr>\n",
       "      <th>1</th>\n",
       "      <td>-83.220482</td>\n",
       "      <td>42.334485</td>\n",
       "      <td>510658-1301</td>\n",
       "      <td>Faust Ave &amp; Dayton St</td>\n",
       "      <td>ASSAULT</td>\n",
       "      <td>ASSAULT AND BATTERY/SIMPLE ASSAULT</td>\n",
       "      <td>1301</td>\n",
       "      <td>13001</td>\n",
       "      <td>ASSAULT AND BATTERY/SIMPLE ASSAULT</td>\n",
       "      <td>2020/03/18 18:28:00+00</td>\n",
       "      <td>...</td>\n",
       "      <td>2003180193</td>\n",
       "      <td>0612</td>\n",
       "      <td>06</td>\n",
       "      <td>2.616355e+14</td>\n",
       "      <td>Warrendale</td>\n",
       "      <td>7.0</td>\n",
       "      <td>48228.0</td>\n",
       "      <td>-83.220482</td>\n",
       "      <td>42.334485</td>\n",
       "      <td>2</td>\n",
       "    </tr>\n",
       "    <tr>\n",
       "      <th>2</th>\n",
       "      <td>-83.160724</td>\n",
       "      <td>42.424184</td>\n",
       "      <td>567826-2099</td>\n",
       "      <td>Curtis St &amp; Wyoming St</td>\n",
       "      <td>ARSON</td>\n",
       "      <td>ARSON</td>\n",
       "      <td>2099</td>\n",
       "      <td>20000</td>\n",
       "      <td>ARSON</td>\n",
       "      <td>2020/08/20 09:07:00+00</td>\n",
       "      <td>...</td>\n",
       "      <td>2008200067</td>\n",
       "      <td>1207</td>\n",
       "      <td>12</td>\n",
       "      <td>2.616354e+14</td>\n",
       "      <td>Schulze</td>\n",
       "      <td>2.0</td>\n",
       "      <td>48221.0</td>\n",
       "      <td>-83.160724</td>\n",
       "      <td>42.424184</td>\n",
       "      <td>3</td>\n",
       "    </tr>\n",
       "    <tr>\n",
       "      <th>3</th>\n",
       "      <td>-83.247337</td>\n",
       "      <td>42.426946</td>\n",
       "      <td>588395-2900</td>\n",
       "      <td>Clarita St &amp; Pierson St</td>\n",
       "      <td>DAMAGE TO PROPERTY</td>\n",
       "      <td>DAMAGE TO PROPERTY</td>\n",
       "      <td>2900</td>\n",
       "      <td>29000</td>\n",
       "      <td>DAMAGE TO PROPERTY</td>\n",
       "      <td>2020/10/10 14:20:00+00</td>\n",
       "      <td>...</td>\n",
       "      <td>2010100129</td>\n",
       "      <td>0806</td>\n",
       "      <td>08</td>\n",
       "      <td>2.616354e+14</td>\n",
       "      <td>Holcomb Community</td>\n",
       "      <td>1.0</td>\n",
       "      <td>48219.0</td>\n",
       "      <td>-83.247337</td>\n",
       "      <td>42.426946</td>\n",
       "      <td>4</td>\n",
       "    </tr>\n",
       "    <tr>\n",
       "      <th>4</th>\n",
       "      <td>-83.168461</td>\n",
       "      <td>42.380601</td>\n",
       "      <td>567931-5201</td>\n",
       "      <td>Meyers Rd &amp; Grand River Ave</td>\n",
       "      <td>WEAPONS OFFENSES</td>\n",
       "      <td>WEAPONS OFFENSE - CONCEALED</td>\n",
       "      <td>5201</td>\n",
       "      <td>52001</td>\n",
       "      <td>WEAPONS OFFENSE - CONCEALED</td>\n",
       "      <td>2020/08/20 17:00:00+00</td>\n",
       "      <td>...</td>\n",
       "      <td>2008200176</td>\n",
       "      <td>0205</td>\n",
       "      <td>02</td>\n",
       "      <td>2.616354e+14</td>\n",
       "      <td>Pride Area Community</td>\n",
       "      <td>7.0</td>\n",
       "      <td>48227.0</td>\n",
       "      <td>-83.168461</td>\n",
       "      <td>42.380601</td>\n",
       "      <td>5</td>\n",
       "    </tr>\n",
       "  </tbody>\n",
       "</table>\n",
       "<p>5 rows × 30 columns</p>\n",
       "</div>"
      ]
     },
     "execution_count": 2,
     "metadata": {},
     "output_type": "execute_result"
    }
   ],
   "execution_count": 2
  },
  {
   "metadata": {
    "ExecuteTime": {
     "end_time": "2025-05-26T16:25:27.203542Z",
     "start_time": "2025-05-26T16:25:27.197393Z"
    }
   },
   "cell_type": "code",
   "source": "df.shape",
   "id": "74b7524d41ea8910",
   "outputs": [
    {
     "data": {
      "text/plain": [
       "(710841, 30)"
      ]
     },
     "execution_count": 3,
     "metadata": {},
     "output_type": "execute_result"
    }
   ],
   "execution_count": 3
  },
  {
   "metadata": {
    "ExecuteTime": {
     "end_time": "2025-05-26T16:25:28.006148Z",
     "start_time": "2025-05-26T16:25:27.998779Z"
    }
   },
   "cell_type": "code",
   "source": "df.columns",
   "id": "548d2486bdbaa283",
   "outputs": [
    {
     "data": {
      "text/plain": [
       "Index(['X', 'Y', 'incident_entry_id', 'nearest_intersection',\n",
       "       'offense_category', 'offense_description', 'state_offense_code',\n",
       "       'arrest_charge', 'charge_description', 'incident_occurred_at',\n",
       "       'incident_time', 'incident_day_of_week', 'incident_hour_of_day',\n",
       "       'incident_year', 'case_id', 'case_status', 'case_status_updated_at',\n",
       "       'updated_in_ibr_at', 'updated_at', 'crime_id', 'report_number',\n",
       "       'scout_car_area', 'police_precinct', 'census_block_2020_geoid',\n",
       "       'neighborhood', 'council_district', 'zip_code', 'longitude', 'latitude',\n",
       "       'ESRI_OID'],\n",
       "      dtype='object')"
      ]
     },
     "execution_count": 4,
     "metadata": {},
     "output_type": "execute_result"
    }
   ],
   "execution_count": 4
  },
  {
   "metadata": {
    "ExecuteTime": {
     "end_time": "2025-05-26T16:25:29.202979Z",
     "start_time": "2025-05-26T16:25:28.595190Z"
    }
   },
   "cell_type": "code",
   "source": "df.describe()",
   "id": "338ff39d8cf10da1",
   "outputs": [
    {
     "data": {
      "text/plain": [
       "                   X              Y  state_offense_code  incident_day_of_week  \\\n",
       "count  710023.000000  710023.000000       710841.000000         710841.000000   \n",
       "mean      -83.107795      42.389907         2395.476600              4.011282   \n",
       "std         0.097516       0.038121         1145.126669              1.992073   \n",
       "min       -83.311156      42.225981          901.000000              1.000000   \n",
       "25%       -83.192954      42.359200         1302.000000              2.000000   \n",
       "50%       -83.116714      42.394622         2306.000000              4.000000   \n",
       "75%       -83.027513      42.422648         2900.000000              6.000000   \n",
       "max       -82.880609      42.470321         9915.000000              7.000000   \n",
       "\n",
       "       incident_hour_of_day  incident_year       case_id      crime_id  \\\n",
       "count         710841.000000  710841.000000  7.108410e+05  7.108410e+05   \n",
       "mean              12.611049    2020.667032  6.090257e+05  3.609026e+06   \n",
       "std                7.110615       2.575415  3.401860e+05  3.401860e+05   \n",
       "min                0.000000    1915.000000  4.000000e+00  3.000004e+06   \n",
       "25%                7.000000    2019.000000  3.176620e+05  3.317662e+06   \n",
       "50%               14.000000    2021.000000  6.169540e+05  3.616954e+06   \n",
       "75%               19.000000    2023.000000  9.038460e+05  3.903846e+06   \n",
       "max               23.000000    2025.000000  1.187525e+06  4.187525e+06   \n",
       "\n",
       "       report_number  census_block_2020_geoid  council_district  \\\n",
       "count   7.108410e+05             7.080200e+05     703692.000000   \n",
       "mean    2.078327e+09             2.616353e+14          3.998938   \n",
       "std     2.465433e+08             3.856698e+08          2.027061   \n",
       "min     4.000000e+00             2.616350e+14          1.000000   \n",
       "25%     1.901290e+09             2.616351e+14          2.000000   \n",
       "50%     2.104100e+09             2.616353e+14          4.000000   \n",
       "75%     2.305230e+09             2.616354e+14          6.000000   \n",
       "max     3.303060e+09             2.616399e+14          7.000000   \n",
       "\n",
       "            zip_code      longitude       latitude       ESRI_OID  \n",
       "count  704550.000000  710023.000000  710023.000000  710841.000000  \n",
       "mean    48219.004606     -83.107795      42.389907  355421.000000  \n",
       "std        11.357270       0.097516       0.038121  205202.265688  \n",
       "min     48201.000000     -83.311156      42.225981       1.000000  \n",
       "25%     48208.000000     -83.192954      42.359200  177711.000000  \n",
       "50%     48219.000000     -83.116714      42.394622  355421.000000  \n",
       "75%     48228.000000     -83.027513      42.422648  533131.000000  \n",
       "max     48243.000000     -82.880609      42.470321  710841.000000  "
      ],
      "text/html": [
       "<div>\n",
       "<style scoped>\n",
       "    .dataframe tbody tr th:only-of-type {\n",
       "        vertical-align: middle;\n",
       "    }\n",
       "\n",
       "    .dataframe tbody tr th {\n",
       "        vertical-align: top;\n",
       "    }\n",
       "\n",
       "    .dataframe thead th {\n",
       "        text-align: right;\n",
       "    }\n",
       "</style>\n",
       "<table border=\"1\" class=\"dataframe\">\n",
       "  <thead>\n",
       "    <tr style=\"text-align: right;\">\n",
       "      <th></th>\n",
       "      <th>X</th>\n",
       "      <th>Y</th>\n",
       "      <th>state_offense_code</th>\n",
       "      <th>incident_day_of_week</th>\n",
       "      <th>incident_hour_of_day</th>\n",
       "      <th>incident_year</th>\n",
       "      <th>case_id</th>\n",
       "      <th>crime_id</th>\n",
       "      <th>report_number</th>\n",
       "      <th>census_block_2020_geoid</th>\n",
       "      <th>council_district</th>\n",
       "      <th>zip_code</th>\n",
       "      <th>longitude</th>\n",
       "      <th>latitude</th>\n",
       "      <th>ESRI_OID</th>\n",
       "    </tr>\n",
       "  </thead>\n",
       "  <tbody>\n",
       "    <tr>\n",
       "      <th>count</th>\n",
       "      <td>710023.000000</td>\n",
       "      <td>710023.000000</td>\n",
       "      <td>710841.000000</td>\n",
       "      <td>710841.000000</td>\n",
       "      <td>710841.000000</td>\n",
       "      <td>710841.000000</td>\n",
       "      <td>7.108410e+05</td>\n",
       "      <td>7.108410e+05</td>\n",
       "      <td>7.108410e+05</td>\n",
       "      <td>7.080200e+05</td>\n",
       "      <td>703692.000000</td>\n",
       "      <td>704550.000000</td>\n",
       "      <td>710023.000000</td>\n",
       "      <td>710023.000000</td>\n",
       "      <td>710841.000000</td>\n",
       "    </tr>\n",
       "    <tr>\n",
       "      <th>mean</th>\n",
       "      <td>-83.107795</td>\n",
       "      <td>42.389907</td>\n",
       "      <td>2395.476600</td>\n",
       "      <td>4.011282</td>\n",
       "      <td>12.611049</td>\n",
       "      <td>2020.667032</td>\n",
       "      <td>6.090257e+05</td>\n",
       "      <td>3.609026e+06</td>\n",
       "      <td>2.078327e+09</td>\n",
       "      <td>2.616353e+14</td>\n",
       "      <td>3.998938</td>\n",
       "      <td>48219.004606</td>\n",
       "      <td>-83.107795</td>\n",
       "      <td>42.389907</td>\n",
       "      <td>355421.000000</td>\n",
       "    </tr>\n",
       "    <tr>\n",
       "      <th>std</th>\n",
       "      <td>0.097516</td>\n",
       "      <td>0.038121</td>\n",
       "      <td>1145.126669</td>\n",
       "      <td>1.992073</td>\n",
       "      <td>7.110615</td>\n",
       "      <td>2.575415</td>\n",
       "      <td>3.401860e+05</td>\n",
       "      <td>3.401860e+05</td>\n",
       "      <td>2.465433e+08</td>\n",
       "      <td>3.856698e+08</td>\n",
       "      <td>2.027061</td>\n",
       "      <td>11.357270</td>\n",
       "      <td>0.097516</td>\n",
       "      <td>0.038121</td>\n",
       "      <td>205202.265688</td>\n",
       "    </tr>\n",
       "    <tr>\n",
       "      <th>min</th>\n",
       "      <td>-83.311156</td>\n",
       "      <td>42.225981</td>\n",
       "      <td>901.000000</td>\n",
       "      <td>1.000000</td>\n",
       "      <td>0.000000</td>\n",
       "      <td>1915.000000</td>\n",
       "      <td>4.000000e+00</td>\n",
       "      <td>3.000004e+06</td>\n",
       "      <td>4.000000e+00</td>\n",
       "      <td>2.616350e+14</td>\n",
       "      <td>1.000000</td>\n",
       "      <td>48201.000000</td>\n",
       "      <td>-83.311156</td>\n",
       "      <td>42.225981</td>\n",
       "      <td>1.000000</td>\n",
       "    </tr>\n",
       "    <tr>\n",
       "      <th>25%</th>\n",
       "      <td>-83.192954</td>\n",
       "      <td>42.359200</td>\n",
       "      <td>1302.000000</td>\n",
       "      <td>2.000000</td>\n",
       "      <td>7.000000</td>\n",
       "      <td>2019.000000</td>\n",
       "      <td>3.176620e+05</td>\n",
       "      <td>3.317662e+06</td>\n",
       "      <td>1.901290e+09</td>\n",
       "      <td>2.616351e+14</td>\n",
       "      <td>2.000000</td>\n",
       "      <td>48208.000000</td>\n",
       "      <td>-83.192954</td>\n",
       "      <td>42.359200</td>\n",
       "      <td>177711.000000</td>\n",
       "    </tr>\n",
       "    <tr>\n",
       "      <th>50%</th>\n",
       "      <td>-83.116714</td>\n",
       "      <td>42.394622</td>\n",
       "      <td>2306.000000</td>\n",
       "      <td>4.000000</td>\n",
       "      <td>14.000000</td>\n",
       "      <td>2021.000000</td>\n",
       "      <td>6.169540e+05</td>\n",
       "      <td>3.616954e+06</td>\n",
       "      <td>2.104100e+09</td>\n",
       "      <td>2.616353e+14</td>\n",
       "      <td>4.000000</td>\n",
       "      <td>48219.000000</td>\n",
       "      <td>-83.116714</td>\n",
       "      <td>42.394622</td>\n",
       "      <td>355421.000000</td>\n",
       "    </tr>\n",
       "    <tr>\n",
       "      <th>75%</th>\n",
       "      <td>-83.027513</td>\n",
       "      <td>42.422648</td>\n",
       "      <td>2900.000000</td>\n",
       "      <td>6.000000</td>\n",
       "      <td>19.000000</td>\n",
       "      <td>2023.000000</td>\n",
       "      <td>9.038460e+05</td>\n",
       "      <td>3.903846e+06</td>\n",
       "      <td>2.305230e+09</td>\n",
       "      <td>2.616354e+14</td>\n",
       "      <td>6.000000</td>\n",
       "      <td>48228.000000</td>\n",
       "      <td>-83.027513</td>\n",
       "      <td>42.422648</td>\n",
       "      <td>533131.000000</td>\n",
       "    </tr>\n",
       "    <tr>\n",
       "      <th>max</th>\n",
       "      <td>-82.880609</td>\n",
       "      <td>42.470321</td>\n",
       "      <td>9915.000000</td>\n",
       "      <td>7.000000</td>\n",
       "      <td>23.000000</td>\n",
       "      <td>2025.000000</td>\n",
       "      <td>1.187525e+06</td>\n",
       "      <td>4.187525e+06</td>\n",
       "      <td>3.303060e+09</td>\n",
       "      <td>2.616399e+14</td>\n",
       "      <td>7.000000</td>\n",
       "      <td>48243.000000</td>\n",
       "      <td>-82.880609</td>\n",
       "      <td>42.470321</td>\n",
       "      <td>710841.000000</td>\n",
       "    </tr>\n",
       "  </tbody>\n",
       "</table>\n",
       "</div>"
      ]
     },
     "execution_count": 5,
     "metadata": {},
     "output_type": "execute_result"
    }
   ],
   "execution_count": 5
  },
  {
   "metadata": {
    "ExecuteTime": {
     "end_time": "2025-05-26T16:25:29.664050Z",
     "start_time": "2025-05-26T16:25:29.266693Z"
    }
   },
   "cell_type": "code",
   "source": "df.info()",
   "id": "a3a22f80f91ec460",
   "outputs": [
    {
     "name": "stdout",
     "output_type": "stream",
     "text": [
      "<class 'pandas.core.frame.DataFrame'>\n",
      "RangeIndex: 710841 entries, 0 to 710840\n",
      "Data columns (total 30 columns):\n",
      " #   Column                   Non-Null Count   Dtype  \n",
      "---  ------                   --------------   -----  \n",
      " 0   X                        710023 non-null  float64\n",
      " 1   Y                        710023 non-null  float64\n",
      " 2   incident_entry_id        710841 non-null  object \n",
      " 3   nearest_intersection     710023 non-null  object \n",
      " 4   offense_category         710841 non-null  object \n",
      " 5   offense_description      710841 non-null  object \n",
      " 6   state_offense_code       710841 non-null  int64  \n",
      " 7   arrest_charge            710841 non-null  object \n",
      " 8   charge_description       710841 non-null  object \n",
      " 9   incident_occurred_at     710841 non-null  object \n",
      " 10  incident_time            710841 non-null  object \n",
      " 11  incident_day_of_week     710841 non-null  int64  \n",
      " 12  incident_hour_of_day     710841 non-null  int64  \n",
      " 13  incident_year            710841 non-null  int64  \n",
      " 14  case_id                  710841 non-null  int64  \n",
      " 15  case_status              710841 non-null  object \n",
      " 16  case_status_updated_at   710834 non-null  object \n",
      " 17  updated_in_ibr_at        662641 non-null  object \n",
      " 18  updated_at               710810 non-null  object \n",
      " 19  crime_id                 710841 non-null  int64  \n",
      " 20  report_number            710841 non-null  int64  \n",
      " 21  scout_car_area           710841 non-null  object \n",
      " 22  police_precinct          710841 non-null  object \n",
      " 23  census_block_2020_geoid  708020 non-null  float64\n",
      " 24  neighborhood             704748 non-null  object \n",
      " 25  council_district         703692 non-null  float64\n",
      " 26  zip_code                 704550 non-null  float64\n",
      " 27  longitude                710023 non-null  float64\n",
      " 28  latitude                 710023 non-null  float64\n",
      " 29  ESRI_OID                 710841 non-null  int64  \n",
      "dtypes: float64(7), int64(8), object(15)\n",
      "memory usage: 162.7+ MB\n"
     ]
    }
   ],
   "execution_count": 6
  },
  {
   "metadata": {
    "ExecuteTime": {
     "end_time": "2025-05-26T16:25:29.759339Z",
     "start_time": "2025-05-26T16:25:29.728796Z"
    }
   },
   "cell_type": "code",
   "source": [
    "#Paper ke mutabiq humein sirf yeh columns chahiye the kyunke yeh features use hote hain crime type aur location predict karne ke liye.\n",
    "df = df[['incident_day_of_week', 'incident_hour_of_day', 'zip_code', 'offense_category']]\n",
    "\n",
    "# Rename columns just for our understanding according to paper bcz these column names are mentioned in the paper\n",
    "df = df.rename(columns={\n",
    "    'incident_day_of_week': 'day_of_week',\n",
    "    'incident_hour_of_day': 'hour',\n",
    "    'offense_category': 'crime_category'\n",
    "})"
   ],
   "id": "2d34af3da13c771",
   "outputs": [],
   "execution_count": 7
  },
  {
   "metadata": {
    "ExecuteTime": {
     "end_time": "2025-05-26T16:25:30.127906Z",
     "start_time": "2025-05-26T16:25:30.036678Z"
    }
   },
   "cell_type": "code",
   "source": [
    "# Check for missing values and drop them\n",
    "df = df.dropna()\n",
    "print(\"Missing values after drop:\\n\", df.isnull().sum())"
   ],
   "id": "aca6fa46c6d8faf8",
   "outputs": [
    {
     "name": "stdout",
     "output_type": "stream",
     "text": [
      "Missing values after drop:\n",
      " day_of_week       0\n",
      "hour              0\n",
      "zip_code          0\n",
      "crime_category    0\n",
      "dtype: int64\n"
     ]
    }
   ],
   "execution_count": 8
  },
  {
   "metadata": {
    "ExecuteTime": {
     "end_time": "2025-05-26T16:25:30.821657Z",
     "start_time": "2025-05-26T16:25:30.755685Z"
    }
   },
   "cell_type": "code",
   "source": [
    "# Count incidents per crime category\n",
    "category_counts = df['crime_category'].value_counts()\n",
    "category_counts"
   ],
   "id": "928af77876432f34",
   "outputs": [
    {
     "data": {
      "text/plain": [
       "crime_category\n",
       "ASSAULT                   129478\n",
       "LARCENY                   104131\n",
       "DAMAGE TO PROPERTY         92003\n",
       "AGGRAVATED ASSAULT         70333\n",
       "STOLEN VEHICLE             63246\n",
       "FRAUD                      59240\n",
       "BURGLARY                   51867\n",
       "WEAPONS OFFENSES           26099\n",
       "STOLEN PROPERTY            15547\n",
       "ROBBERY                    15109\n",
       "DANGEROUS DRUGS            12177\n",
       "SEX OFFENSES                9150\n",
       "OBSTRUCTING JUDICIARY       8971\n",
       "OBSTRUCTING THE POLICE      8753\n",
       "SEXUAL ASSAULT              6093\n",
       "ARSON                       5287\n",
       "RUNAWAY                     4780\n",
       "FAMILY OFFENSE              4095\n",
       "OUIL                        4088\n",
       "OTHER                       2515\n",
       "MISCELLANEOUS               2369\n",
       "HOMICIDE                    2300\n",
       "DISORDERLY CONDUCT          2264\n",
       "FORGERY                     1812\n",
       "KIDNAPPING                  1573\n",
       "LIQUOR                       582\n",
       "EXTORTION                    443\n",
       "JUSTIFIABLE HOMICIDE         187\n",
       "SOLICITATION                  45\n",
       "GAMBLING                      13\n",
       "Name: count, dtype: int64"
      ]
     },
     "execution_count": 9,
     "metadata": {},
     "output_type": "execute_result"
    }
   ],
   "execution_count": 9
  },
  {
   "metadata": {
    "ExecuteTime": {
     "end_time": "2025-05-26T16:25:31.419790Z",
     "start_time": "2025-05-26T16:25:31.326714Z"
    }
   },
   "cell_type": "code",
   "source": [
    "#Dataset mein originally ~38 crime categories thi, lekin paper ke according humne sirf un categories ko rakha jin ke incidents ≥600 the, taake data balanced ho.\n",
    "selected_categories = category_counts[category_counts >= 600].index\n",
    "df_filtered = df[df['crime_category'].isin(selected_categories)]\n",
    "# Verify the number of categories\n",
    "print(f\"Number of crime categories after filtering: {len(selected_categories)}\")\n",
    "print(\"Selected categories:\\n\", selected_categories)\n",
    "\n",
    "print(f\"Unique zip codes: {len(df_filtered['zip_code'].unique())}\")\n",
    "print(f\"Unique days of week: {len(df_filtered['day_of_week'].unique())}\")\n",
    "print(f\"HourHour is numerical: 1 feature\")"
   ],
   "id": "3c3def757653de20",
   "outputs": [
    {
     "name": "stdout",
     "output_type": "stream",
     "text": [
      "Number of crime categories after filtering: 25\n",
      "Selected categories:\n",
      " Index(['ASSAULT', 'LARCENY', 'DAMAGE TO PROPERTY', 'AGGRAVATED ASSAULT',\n",
      "       'STOLEN VEHICLE', 'FRAUD', 'BURGLARY', 'WEAPONS OFFENSES',\n",
      "       'STOLEN PROPERTY', 'ROBBERY', 'DANGEROUS DRUGS', 'SEX OFFENSES',\n",
      "       'OBSTRUCTING JUDICIARY', 'OBSTRUCTING THE POLICE', 'SEXUAL ASSAULT',\n",
      "       'ARSON', 'RUNAWAY', 'FAMILY OFFENSE', 'OUIL', 'OTHER', 'MISCELLANEOUS',\n",
      "       'HOMICIDE', 'DISORDERLY CONDUCT', 'FORGERY', 'KIDNAPPING'],\n",
      "      dtype='object', name='crime_category')\n",
      "Unique zip codes: 30\n",
      "Unique days of week: 7\n",
      "HourHour is numerical: 1 feature\n"
     ]
    }
   ],
   "execution_count": 10
  },
  {
   "metadata": {
    "ExecuteTime": {
     "end_time": "2025-05-26T16:25:33.364912Z",
     "start_time": "2025-05-26T16:25:32.173606Z"
    }
   },
   "cell_type": "code",
   "source": [
    "# Humne dataset ko do parts mein divide kiya: training set aur validation set.\n",
    "# Training set ko balanced banaya:\n",
    "# Har crime category ke liye:\n",
    "# Agar total incidents ≥700 the, to 350 samples liye.\n",
    "# Agar 600 ≤ incidents < 700 the, to total / 2 samples liye.\n",
    "# Badi categories ke liye thodi extra samples add kiye (max 370 tak).\n",
    "# Baaki sab samples validation set mein gaye.\n",
    "train_samples = []\n",
    "for category in selected_categories:\n",
    "    category_df = df_filtered[df_filtered['crime_category'] == category]\n",
    "    total = len(category_df)\n",
    "    if total >= 700:\n",
    "        n_train = 350\n",
    "    else:\n",
    "        n_train = total // 2\n",
    "    # Add proportional extra samples for large clusters (up to 370)\n",
    "    if total > 700:\n",
    "        n_train = min(370, n_train + int((total - 700) * 0.1))\n",
    "    train_sample = category_df.sample(n=n_train, random_state=42)\n",
    "    train_samples.append(train_sample)\n",
    "\n",
    "# Combine training samples\n",
    "train_df = pd.concat(train_samples)\n",
    "# Validation set\n",
    "validation_df = df_filtered[~df_filtered.index.isin(train_df.index)]\n",
    "\n",
    "# Verify sizes\n",
    "print(f\"Training set size: {len(train_df)}\")\n",
    "print(f\"Validation set size: {len(validation_df)}\")\n",
    "# Paper ke according training set balanced hona chahiye taake har category ka equal representation ho.\n",
    "# Validation set bada tha kyunke woh real-world testing ke liye use hota hai."
   ],
   "id": "765d53f0825155c6",
   "outputs": [
    {
     "name": "stdout",
     "output_type": "stream",
     "text": [
      "Training set size: 9250\n",
      "Validation set size: 694030\n"
     ]
    }
   ],
   "execution_count": 11
  },
  {
   "metadata": {
    "ExecuteTime": {
     "end_time": "2025-05-26T16:25:33.467567Z",
     "start_time": "2025-05-26T16:25:33.462160Z"
    }
   },
   "cell_type": "code",
   "source": [
    "#prepare dataset for our two models as menioned in paper\n",
    "#1. Crime Type Prediction\n",
    "#2. Crime Location Prediction\n",
    "\n",
    "# Categorical variables (zip_code, day_of_week, crime_category) ko one-hot encoding se convert kiya (0s aur 1s ke matrices) or hour ko numerical he rakha\n",
    "# Reason: Paper ke mutabiq, categorical data ko one-hot encode karna tha kyunke neural networks raw categories nahi samajhte.\n",
    "zip_encoder = OneHotEncoder(sparse=False, handle_unknown='ignore')\n",
    "day_encoder = OneHotEncoder(sparse=False, handle_unknown='ignore')\n",
    "category_encoder = OneHotEncoder(sparse=False, handle_unknown='ignore')"
   ],
   "id": "1c5aa28be98be7da",
   "outputs": [],
   "execution_count": 12
  },
  {
   "metadata": {
    "ExecuteTime": {
     "end_time": "2025-05-26T16:25:34.472567Z",
     "start_time": "2025-05-26T16:25:34.368223Z"
    }
   },
   "cell_type": "code",
   "source": [
    "# Fit encoders\n",
    "zip_encoder.fit(df_filtered[['zip_code']])\n",
    "day_encoder.fit(df_filtered[['day_of_week']])\n",
    "category_encoder.fit(df_filtered[['crime_category']])"
   ],
   "id": "a36c8526448f664d",
   "outputs": [
    {
     "name": "stderr",
     "output_type": "stream",
     "text": [
      "E:\\BSAI-5th\\DataMining\\.venv\\Lib\\site-packages\\sklearn\\preprocessing\\_encoders.py:972: FutureWarning: `sparse` was renamed to `sparse_output` in version 1.2 and will be removed in 1.4. `sparse_output` is ignored unless you leave `sparse` to its default value.\n",
      "  warnings.warn(\n",
      "E:\\BSAI-5th\\DataMining\\.venv\\Lib\\site-packages\\sklearn\\preprocessing\\_encoders.py:972: FutureWarning: `sparse` was renamed to `sparse_output` in version 1.2 and will be removed in 1.4. `sparse_output` is ignored unless you leave `sparse` to its default value.\n",
      "  warnings.warn(\n",
      "E:\\BSAI-5th\\DataMining\\.venv\\Lib\\site-packages\\sklearn\\preprocessing\\_encoders.py:972: FutureWarning: `sparse` was renamed to `sparse_output` in version 1.2 and will be removed in 1.4. `sparse_output` is ignored unless you leave `sparse` to its default value.\n",
      "  warnings.warn(\n"
     ]
    },
    {
     "data": {
      "text/plain": [
       "OneHotEncoder(handle_unknown='ignore', sparse=False, sparse_output=False)"
      ],
      "text/html": [
       "<style>#sk-container-id-1 {color: black;}#sk-container-id-1 pre{padding: 0;}#sk-container-id-1 div.sk-toggleable {background-color: white;}#sk-container-id-1 label.sk-toggleable__label {cursor: pointer;display: block;width: 100%;margin-bottom: 0;padding: 0.3em;box-sizing: border-box;text-align: center;}#sk-container-id-1 label.sk-toggleable__label-arrow:before {content: \"▸\";float: left;margin-right: 0.25em;color: #696969;}#sk-container-id-1 label.sk-toggleable__label-arrow:hover:before {color: black;}#sk-container-id-1 div.sk-estimator:hover label.sk-toggleable__label-arrow:before {color: black;}#sk-container-id-1 div.sk-toggleable__content {max-height: 0;max-width: 0;overflow: hidden;text-align: left;background-color: #f0f8ff;}#sk-container-id-1 div.sk-toggleable__content pre {margin: 0.2em;color: black;border-radius: 0.25em;background-color: #f0f8ff;}#sk-container-id-1 input.sk-toggleable__control:checked~div.sk-toggleable__content {max-height: 200px;max-width: 100%;overflow: auto;}#sk-container-id-1 input.sk-toggleable__control:checked~label.sk-toggleable__label-arrow:before {content: \"▾\";}#sk-container-id-1 div.sk-estimator input.sk-toggleable__control:checked~label.sk-toggleable__label {background-color: #d4ebff;}#sk-container-id-1 div.sk-label input.sk-toggleable__control:checked~label.sk-toggleable__label {background-color: #d4ebff;}#sk-container-id-1 input.sk-hidden--visually {border: 0;clip: rect(1px 1px 1px 1px);clip: rect(1px, 1px, 1px, 1px);height: 1px;margin: -1px;overflow: hidden;padding: 0;position: absolute;width: 1px;}#sk-container-id-1 div.sk-estimator {font-family: monospace;background-color: #f0f8ff;border: 1px dotted black;border-radius: 0.25em;box-sizing: border-box;margin-bottom: 0.5em;}#sk-container-id-1 div.sk-estimator:hover {background-color: #d4ebff;}#sk-container-id-1 div.sk-parallel-item::after {content: \"\";width: 100%;border-bottom: 1px solid gray;flex-grow: 1;}#sk-container-id-1 div.sk-label:hover label.sk-toggleable__label {background-color: #d4ebff;}#sk-container-id-1 div.sk-serial::before {content: \"\";position: absolute;border-left: 1px solid gray;box-sizing: border-box;top: 0;bottom: 0;left: 50%;z-index: 0;}#sk-container-id-1 div.sk-serial {display: flex;flex-direction: column;align-items: center;background-color: white;padding-right: 0.2em;padding-left: 0.2em;position: relative;}#sk-container-id-1 div.sk-item {position: relative;z-index: 1;}#sk-container-id-1 div.sk-parallel {display: flex;align-items: stretch;justify-content: center;background-color: white;position: relative;}#sk-container-id-1 div.sk-item::before, #sk-container-id-1 div.sk-parallel-item::before {content: \"\";position: absolute;border-left: 1px solid gray;box-sizing: border-box;top: 0;bottom: 0;left: 50%;z-index: -1;}#sk-container-id-1 div.sk-parallel-item {display: flex;flex-direction: column;z-index: 1;position: relative;background-color: white;}#sk-container-id-1 div.sk-parallel-item:first-child::after {align-self: flex-end;width: 50%;}#sk-container-id-1 div.sk-parallel-item:last-child::after {align-self: flex-start;width: 50%;}#sk-container-id-1 div.sk-parallel-item:only-child::after {width: 0;}#sk-container-id-1 div.sk-dashed-wrapped {border: 1px dashed gray;margin: 0 0.4em 0.5em 0.4em;box-sizing: border-box;padding-bottom: 0.4em;background-color: white;}#sk-container-id-1 div.sk-label label {font-family: monospace;font-weight: bold;display: inline-block;line-height: 1.2em;}#sk-container-id-1 div.sk-label-container {text-align: center;}#sk-container-id-1 div.sk-container {/* jupyter's `normalize.less` sets `[hidden] { display: none; }` but bootstrap.min.css set `[hidden] { display: none !important; }` so we also need the `!important` here to be able to override the default hidden behavior on the sphinx rendered scikit-learn.org. See: https://github.com/scikit-learn/scikit-learn/issues/21755 */display: inline-block !important;position: relative;}#sk-container-id-1 div.sk-text-repr-fallback {display: none;}</style><div id=\"sk-container-id-1\" class=\"sk-top-container\"><div class=\"sk-text-repr-fallback\"><pre>OneHotEncoder(handle_unknown=&#x27;ignore&#x27;, sparse=False, sparse_output=False)</pre><b>In a Jupyter environment, please rerun this cell to show the HTML representation or trust the notebook. <br />On GitHub, the HTML representation is unable to render, please try loading this page with nbviewer.org.</b></div><div class=\"sk-container\" hidden><div class=\"sk-item\"><div class=\"sk-estimator sk-toggleable\"><input class=\"sk-toggleable__control sk-hidden--visually\" id=\"sk-estimator-id-1\" type=\"checkbox\" checked><label for=\"sk-estimator-id-1\" class=\"sk-toggleable__label sk-toggleable__label-arrow\">OneHotEncoder</label><div class=\"sk-toggleable__content\"><pre>OneHotEncoder(handle_unknown=&#x27;ignore&#x27;, sparse=False, sparse_output=False)</pre></div></div></div></div></div>"
      ]
     },
     "execution_count": 13,
     "metadata": {},
     "output_type": "execute_result"
    }
   ],
   "execution_count": 13
  },
  {
   "metadata": {
    "ExecuteTime": {
     "end_time": "2025-05-26T16:25:36.074627Z",
     "start_time": "2025-05-26T16:25:35.557008Z"
    }
   },
   "cell_type": "code",
   "source": [
    "# Prepare inputs and outputs for crime type prediction\n",
    "X_train_crime = np.hstack([\n",
    "    zip_encoder.transform(train_df[['zip_code']]),\n",
    "    day_encoder.transform(train_df[['day_of_week']]),\n",
    "    train_df['hour'].values.reshape(-1, 1)\n",
    "])\n",
    "y_train_crime = np.argmax(category_encoder.transform(train_df[['crime_category']]), axis=1)\n",
    "X_val_crime = np.hstack([\n",
    "    zip_encoder.transform(validation_df[['zip_code']]),\n",
    "    day_encoder.transform(validation_df[['day_of_week']]),\n",
    "    validation_df['hour'].values.reshape(-1, 1)\n",
    "])\n",
    "y_val_crime = np.argmax(category_encoder.transform(validation_df[['crime_category']]), axis=1)"
   ],
   "id": "5b0ca7e1ffcd218",
   "outputs": [],
   "execution_count": 14
  },
  {
   "metadata": {
    "ExecuteTime": {
     "end_time": "2025-05-26T16:25:37.261307Z",
     "start_time": "2025-05-26T16:25:36.755170Z"
    }
   },
   "cell_type": "code",
   "source": [
    "# Prepare inputs and outputs for location prediction\n",
    "X_train_loc = np.hstack([\n",
    "    category_encoder.transform(train_df[['crime_category']]),\n",
    "    day_encoder.transform(train_df[['day_of_week']]),\n",
    "    train_df['hour'].values.reshape(-1, 1)\n",
    "])\n",
    "y_train_loc = np.argmax(zip_encoder.transform(train_df[['zip_code']]), axis=1)\n",
    "X_val_loc = np.hstack([\n",
    "    category_encoder.transform(validation_df[['crime_category']]),\n",
    "    day_encoder.transform(validation_df[['day_of_week']]),\n",
    "    validation_df['hour'].values.reshape(-1, 1)\n",
    "])\n",
    "y_val_loc = np.argmax(zip_encoder.transform(validation_df[['zip_code']]), axis=1)"
   ],
   "id": "d55c4f4e714597d1",
   "outputs": [],
   "execution_count": 15
  },
  {
   "metadata": {
    "ExecuteTime": {
     "end_time": "2025-05-26T16:25:38.032108Z",
     "start_time": "2025-05-26T16:25:37.925850Z"
    }
   },
   "cell_type": "code",
   "source": [
    "# Data ko PyTorch tensors mein convert kiya taake model training ke liye ready ho.\n",
    "X_train_crime = torch.tensor(X_train_crime, dtype=torch.float32)\n",
    "y_train_crime = torch.tensor(y_train_crime, dtype=torch.long)\n",
    "X_val_crime = torch.tensor(X_val_crime, dtype=torch.float32)\n",
    "y_val_crime = torch.tensor(y_val_crime, dtype=torch.long)\n",
    "\n",
    "X_train_loc = torch.tensor(X_train_loc, dtype=torch.float32)\n",
    "y_train_loc = torch.tensor(y_train_loc, dtype=torch.long)\n",
    "X_val_loc = torch.tensor(X_val_loc, dtype=torch.float32)\n",
    "y_val_loc = torch.tensor(y_val_loc, dtype=torch.long)"
   ],
   "id": "cc7f52e9a594861b",
   "outputs": [],
   "execution_count": 16
  },
  {
   "metadata": {
    "ExecuteTime": {
     "end_time": "2025-05-26T16:25:38.716899Z",
     "start_time": "2025-05-26T16:25:38.711409Z"
    }
   },
   "cell_type": "code",
   "source": [
    "# Verify shapes\n",
    "print(\"Crime Type - X_train shape:\", X_train_crime.shape, \"y_train shape:\", y_train_crime.shape)\n",
    "print(\"Location - X_train shape:\", X_train_loc.shape, \"y_train shape:\", y_train_loc.shape)"
   ],
   "id": "9c7ceaecdf5ba128",
   "outputs": [
    {
     "name": "stdout",
     "output_type": "stream",
     "text": [
      "Crime Type - X_train shape: torch.Size([9250, 38]) y_train shape: torch.Size([9250])\n",
      "Location - X_train shape: torch.Size([9250, 33]) y_train shape: torch.Size([9250])\n"
     ]
    }
   ],
   "execution_count": 17
  },
  {
   "metadata": {
    "ExecuteTime": {
     "end_time": "2025-05-26T16:25:39.684225Z",
     "start_time": "2025-05-26T16:25:39.675537Z"
    }
   },
   "cell_type": "code",
   "source": [
    "#Humne do models banaye, dono Multi-Layer Perceptrons (MLPs), jo paper ke according hain. Training ke liye PyTorch use kiya aur Adam optimizer (modern backpropagation) ke sath early stopping add kiya.\n",
    "# Define the MLP model for Crime Type Prediction\n",
    "class CrimeTypeMLP(nn.Module):\n",
    "    def __init__(self):\n",
    "        super(CrimeTypeMLP, self).__init__()\n",
    "        self.layers = nn.Sequential(\n",
    "            nn.Linear(38, 12),\n",
    "            nn.Sigmoid(),\n",
    "            nn.Linear(12, 4),\n",
    "            nn.Sigmoid(),\n",
    "            nn.Linear(4, 25)\n",
    "        )\n",
    "    def forward(self, x):\n",
    "        return self.layers(x)"
   ],
   "id": "c6dade240e735d0c",
   "outputs": [],
   "execution_count": 18
  },
  {
   "metadata": {
    "ExecuteTime": {
     "end_time": "2025-05-26T16:25:40.815868Z",
     "start_time": "2025-05-26T16:25:40.810337Z"
    }
   },
   "cell_type": "code",
   "source": [
    "# Create data loaders\n",
    "train_dataset_crime = TensorDataset(X_train_crime, y_train_crime)\n",
    "val_dataset_crime = TensorDataset(X_val_crime, y_val_crime)\n",
    "train_loader_crime = DataLoader(train_dataset_crime, batch_size=32, shuffle=True)\n",
    "val_loader_crime = DataLoader(val_dataset_crime, batch_size=32)"
   ],
   "id": "701775bf65a804e7",
   "outputs": [],
   "execution_count": 19
  },
  {
   "metadata": {
    "ExecuteTime": {
     "end_time": "2025-05-26T16:25:42.640576Z",
     "start_time": "2025-05-26T16:25:41.725127Z"
    }
   },
   "cell_type": "code",
   "source": [
    "# Initialize model, loss, and optimizer\n",
    "model_crime = CrimeTypeMLP()\n",
    "criterion = nn.CrossEntropyLoss()\n",
    "optimizer = optim.Adam(model_crime.parameters())"
   ],
   "id": "fc889e5f166574c3",
   "outputs": [],
   "execution_count": 20
  },
  {
   "metadata": {
    "ExecuteTime": {
     "end_time": "2025-05-26T16:35:00.654710Z",
     "start_time": "2025-05-26T16:25:42.760798Z"
    }
   },
   "cell_type": "code",
   "source": [
    "# Training loop with early stopping\n",
    "def train_model(model, train_loader, val_loader, criterion, optimizer, epochs=100, patience=10):\n",
    "    best_val_loss = float('inf')\n",
    "    patience_counter = 0\n",
    "    for epoch in range(epochs):\n",
    "        model.train()\n",
    "        train_loss = 0\n",
    "        for X_batch, y_batch in train_loader:\n",
    "            optimizer.zero_grad()\n",
    "            outputs = model(X_batch)\n",
    "            loss = criterion(outputs, y_batch)\n",
    "            loss.backward()\n",
    "            optimizer.step()\n",
    "            train_loss += loss.item()\n",
    "\n",
    "        # Validation\n",
    "        model.eval()\n",
    "        val_loss = 0\n",
    "        correct = 0\n",
    "        total = 0\n",
    "        with torch.no_grad():\n",
    "            for X_batch, y_batch in val_loader:\n",
    "                outputs = model(X_batch)\n",
    "                loss = criterion(outputs, y_batch)\n",
    "                val_loss += loss.item()\n",
    "                _, predicted = torch.max(outputs, 1)\n",
    "                total += y_batch.size(0)\n",
    "                correct += (predicted == y_batch).sum().item()\n",
    "\n",
    "        val_loss /= len(val_loader)\n",
    "        val_accuracy = correct / total\n",
    "        print(f\"Epoch {epoch+1}, Val Loss: {val_loss:.4f}, Val Accuracy: {val_accuracy*100:.1f}%\")\n",
    "\n",
    "        # Early stopping\n",
    "        if val_loss < best_val_loss:\n",
    "            best_val_loss = val_loss\n",
    "            patience_counter = 0\n",
    "            torch.save(model.state_dict(), 'crime_type_model.pt')\n",
    "        else:\n",
    "            patience_counter += 1\n",
    "            if patience_counter >= patience:\n",
    "                print(\"Early stopping triggered\")\n",
    "                break\n",
    "\n",
    "# Train the model\n",
    "train_model(model_crime, train_loader_crime, val_loader_crime, criterion, optimizer)"
   ],
   "id": "c14933d72d06089d",
   "outputs": [
    {
     "name": "stdout",
     "output_type": "stream",
     "text": [
      "Epoch 1, Val Loss: 3.3064, Val Accuracy: 1.2%\n",
      "Epoch 2, Val Loss: 3.2481, Val Accuracy: 1.2%\n",
      "Epoch 3, Val Loss: 3.2342, Val Accuracy: 0.6%\n",
      "Epoch 4, Val Loss: 3.2223, Val Accuracy: 3.9%\n",
      "Epoch 5, Val Loss: 3.2152, Val Accuracy: 6.4%\n",
      "Epoch 6, Val Loss: 3.2160, Val Accuracy: 6.8%\n",
      "Epoch 7, Val Loss: 3.2084, Val Accuracy: 7.9%\n",
      "Epoch 8, Val Loss: 3.2164, Val Accuracy: 6.9%\n",
      "Epoch 9, Val Loss: 3.2152, Val Accuracy: 7.7%\n",
      "Epoch 10, Val Loss: 3.2198, Val Accuracy: 3.7%\n",
      "Epoch 11, Val Loss: 3.2182, Val Accuracy: 4.9%\n",
      "Epoch 12, Val Loss: 3.2016, Val Accuracy: 8.2%\n",
      "Epoch 13, Val Loss: 3.2157, Val Accuracy: 2.6%\n",
      "Epoch 14, Val Loss: 3.2156, Val Accuracy: 1.6%\n",
      "Epoch 15, Val Loss: 3.2163, Val Accuracy: 1.3%\n",
      "Epoch 16, Val Loss: 3.2156, Val Accuracy: 2.2%\n",
      "Epoch 17, Val Loss: 3.2123, Val Accuracy: 1.8%\n",
      "Epoch 18, Val Loss: 3.2125, Val Accuracy: 1.5%\n",
      "Epoch 19, Val Loss: 3.2141, Val Accuracy: 2.2%\n",
      "Epoch 20, Val Loss: 3.2055, Val Accuracy: 1.7%\n",
      "Epoch 21, Val Loss: 3.2024, Val Accuracy: 1.6%\n",
      "Epoch 22, Val Loss: 3.2144, Val Accuracy: 1.3%\n",
      "Early stopping triggered\n"
     ]
    }
   ],
   "execution_count": 21
  },
  {
   "metadata": {
    "ExecuteTime": {
     "end_time": "2025-05-26T16:35:24.978244Z",
     "start_time": "2025-05-26T16:35:01.066521Z"
    }
   },
   "cell_type": "code",
   "source": [
    "# Load best model and evaluate\n",
    "model_crime.load_state_dict(torch.load('crime_type_model.pt'))\n",
    "model_crime.eval()\n",
    "correct = 0\n",
    "total = 0\n",
    "with torch.no_grad():\n",
    "    for X_batch, y_batch in val_loader_crime:\n",
    "        outputs = model_crime(X_batch)\n",
    "        _, predicted = torch.max(outputs, 1)\n",
    "        total += y_batch.size(0)\n",
    "        correct += (predicted == y_batch).sum().item()\n",
    "accuracy = correct / total\n",
    "print(f\"Crime Type Prediction Accuracy: {accuracy * 100:.1f}%\")"
   ],
   "id": "f6afb76cc41f04a",
   "outputs": [
    {
     "name": "stderr",
     "output_type": "stream",
     "text": [
      "C:\\Users\\wasif\\AppData\\Local\\Temp\\ipykernel_10360\\2823806501.py:2: FutureWarning: You are using `torch.load` with `weights_only=False` (the current default value), which uses the default pickle module implicitly. It is possible to construct malicious pickle data which will execute arbitrary code during unpickling (See https://github.com/pytorch/pytorch/blob/main/SECURITY.md#untrusted-models for more details). In a future release, the default value for `weights_only` will be flipped to `True`. This limits the functions that could be executed during unpickling. Arbitrary objects will no longer be allowed to be loaded via this mode unless they are explicitly allowlisted by the user via `torch.serialization.add_safe_globals`. We recommend you start setting `weights_only=True` for any use case where you don't have full control of the loaded file. Please open an issue on GitHub for any issues related to this experimental feature.\n",
      "  model_crime.load_state_dict(torch.load('crime_type_model.pt'))\n"
     ]
    },
    {
     "name": "stdout",
     "output_type": "stream",
     "text": [
      "Crime Type Prediction Accuracy: 8.2%\n"
     ]
    }
   ],
   "execution_count": 22
  },
  {
   "metadata": {
    "ExecuteTime": {
     "end_time": "2025-05-26T16:38:29.537986Z",
     "start_time": "2025-05-26T16:38:29.532469Z"
    }
   },
   "cell_type": "code",
   "source": [
    "#Unique crime categories: 25\n",
    "# Unique days of week: 7\n",
    "# Hour is numerical: 1 feature\n",
    "# Total input features for Location Model: 25+7+1=33\n",
    "# Unique zip codes (output): 30\n",
    "\n",
    "# Define the MLP model Crime Location Prediction\n",
    "class LocationMLP(nn.Module):\n",
    "    def __init__(self):\n",
    "        super(LocationMLP, self).__init__()\n",
    "        self.layers = nn.Sequential(\n",
    "            nn.Linear(33, 27),\n",
    "            nn.Sigmoid(),\n",
    "            nn.Linear(27, 6),\n",
    "            nn.Sigmoid(),\n",
    "            nn.Linear(6, 30)\n",
    "        )\n",
    "\n",
    "    def forward(self, x):\n",
    "        return self.layers(x)"
   ],
   "id": "ac02dfb1960c585f",
   "outputs": [],
   "execution_count": 23
  },
  {
   "metadata": {
    "ExecuteTime": {
     "end_time": "2025-05-26T16:38:30.282156Z",
     "start_time": "2025-05-26T16:38:30.276441Z"
    }
   },
   "cell_type": "code",
   "source": [
    "# Create data loaders\n",
    "train_dataset_loc = TensorDataset(X_train_loc, y_train_loc)\n",
    "val_dataset_loc = TensorDataset(X_val_loc, y_val_loc)\n",
    "train_loader_loc = DataLoader(train_dataset_loc, batch_size=32, shuffle=True)\n",
    "val_loader_loc = DataLoader(val_dataset_loc, batch_size=32)"
   ],
   "id": "f8016114d3d9bc07",
   "outputs": [],
   "execution_count": 24
  },
  {
   "metadata": {
    "ExecuteTime": {
     "end_time": "2025-05-26T16:38:30.969343Z",
     "start_time": "2025-05-26T16:38:30.962268Z"
    }
   },
   "cell_type": "code",
   "source": [
    "# Initialize model, loss, and optimizer\n",
    "model_loc = LocationMLP()\n",
    "criterion = nn.CrossEntropyLoss()\n",
    "optimizer = optim.Adam(model_loc.parameters())"
   ],
   "id": "ec3a084da9a35487",
   "outputs": [],
   "execution_count": 25
  },
  {
   "metadata": {
    "ExecuteTime": {
     "end_time": "2025-05-26T17:03:51.659624Z",
     "start_time": "2025-05-26T16:38:31.542121Z"
    }
   },
   "cell_type": "code",
   "source": [
    "# Train the model\n",
    "train_model(model_loc, train_loader_loc, val_loader_loc, criterion, optimizer)"
   ],
   "id": "7d0415d9a935f1d7",
   "outputs": [
    {
     "name": "stdout",
     "output_type": "stream",
     "text": [
      "Epoch 1, Val Loss: 3.2146, Val Accuracy: 8.1%\n",
      "Epoch 2, Val Loss: 3.1768, Val Accuracy: 8.1%\n",
      "Epoch 3, Val Loss: 3.1752, Val Accuracy: 8.1%\n",
      "Epoch 4, Val Loss: 3.1757, Val Accuracy: 8.1%\n",
      "Epoch 5, Val Loss: 3.1758, Val Accuracy: 8.1%\n",
      "Epoch 6, Val Loss: 3.1760, Val Accuracy: 7.9%\n",
      "Epoch 7, Val Loss: 3.1751, Val Accuracy: 8.1%\n",
      "Epoch 8, Val Loss: 3.1761, Val Accuracy: 7.8%\n",
      "Epoch 9, Val Loss: 3.1755, Val Accuracy: 7.2%\n",
      "Epoch 10, Val Loss: 3.1751, Val Accuracy: 8.1%\n",
      "Epoch 11, Val Loss: 3.1749, Val Accuracy: 8.1%\n",
      "Epoch 12, Val Loss: 3.1756, Val Accuracy: 7.6%\n",
      "Epoch 13, Val Loss: 3.1740, Val Accuracy: 8.0%\n",
      "Epoch 14, Val Loss: 3.1735, Val Accuracy: 8.0%\n",
      "Epoch 15, Val Loss: 3.1735, Val Accuracy: 8.1%\n",
      "Epoch 16, Val Loss: 3.1710, Val Accuracy: 8.1%\n",
      "Epoch 17, Val Loss: 3.1711, Val Accuracy: 8.1%\n",
      "Epoch 18, Val Loss: 3.1702, Val Accuracy: 8.0%\n",
      "Epoch 19, Val Loss: 3.1695, Val Accuracy: 7.9%\n",
      "Epoch 20, Val Loss: 3.1689, Val Accuracy: 8.0%\n",
      "Epoch 21, Val Loss: 3.1674, Val Accuracy: 7.9%\n",
      "Epoch 22, Val Loss: 3.1673, Val Accuracy: 7.7%\n",
      "Epoch 23, Val Loss: 3.1656, Val Accuracy: 7.7%\n",
      "Epoch 24, Val Loss: 3.1645, Val Accuracy: 8.1%\n",
      "Epoch 25, Val Loss: 3.1644, Val Accuracy: 7.6%\n",
      "Epoch 26, Val Loss: 3.1641, Val Accuracy: 7.6%\n",
      "Epoch 27, Val Loss: 3.1635, Val Accuracy: 7.7%\n",
      "Epoch 28, Val Loss: 3.1628, Val Accuracy: 7.8%\n",
      "Epoch 29, Val Loss: 3.1626, Val Accuracy: 7.9%\n",
      "Epoch 30, Val Loss: 3.1621, Val Accuracy: 7.7%\n",
      "Epoch 31, Val Loss: 3.1625, Val Accuracy: 7.9%\n",
      "Epoch 32, Val Loss: 3.1617, Val Accuracy: 7.9%\n",
      "Epoch 33, Val Loss: 3.1619, Val Accuracy: 7.5%\n",
      "Epoch 34, Val Loss: 3.1608, Val Accuracy: 7.7%\n",
      "Epoch 35, Val Loss: 3.1605, Val Accuracy: 7.8%\n",
      "Epoch 36, Val Loss: 3.1608, Val Accuracy: 8.1%\n",
      "Epoch 37, Val Loss: 3.1599, Val Accuracy: 7.8%\n",
      "Epoch 38, Val Loss: 3.1611, Val Accuracy: 7.8%\n",
      "Epoch 39, Val Loss: 3.1597, Val Accuracy: 8.0%\n",
      "Epoch 40, Val Loss: 3.1595, Val Accuracy: 8.3%\n",
      "Epoch 41, Val Loss: 3.1596, Val Accuracy: 8.0%\n",
      "Epoch 42, Val Loss: 3.1595, Val Accuracy: 8.0%\n",
      "Epoch 43, Val Loss: 3.1588, Val Accuracy: 8.0%\n",
      "Epoch 44, Val Loss: 3.1588, Val Accuracy: 8.1%\n",
      "Epoch 45, Val Loss: 3.1593, Val Accuracy: 8.0%\n",
      "Epoch 46, Val Loss: 3.1594, Val Accuracy: 8.0%\n",
      "Epoch 47, Val Loss: 3.1591, Val Accuracy: 8.1%\n",
      "Epoch 48, Val Loss: 3.1594, Val Accuracy: 8.2%\n",
      "Epoch 49, Val Loss: 3.1593, Val Accuracy: 8.2%\n",
      "Epoch 50, Val Loss: 3.1595, Val Accuracy: 7.8%\n",
      "Epoch 51, Val Loss: 3.1598, Val Accuracy: 7.9%\n",
      "Epoch 52, Val Loss: 3.1592, Val Accuracy: 8.0%\n",
      "Epoch 53, Val Loss: 3.1595, Val Accuracy: 8.1%\n",
      "Early stopping triggered\n"
     ]
    }
   ],
   "execution_count": 26
  },
  {
   "metadata": {
    "ExecuteTime": {
     "end_time": "2025-05-26T17:23:17.311718Z",
     "start_time": "2025-05-26T17:23:01.569928Z"
    }
   },
   "cell_type": "code",
   "source": [
    "# Load best model and evaluate\n",
    "model_loc.load_state_dict(torch.load('location_model.pt'))\n",
    "model_loc.eval()\n",
    "correct = 0\n",
    "total = 0\n",
    "with torch.no_grad():\n",
    "    for X_batch, y_batch in val_loader_loc:\n",
    "        outputs = model_loc(X_batch)\n",
    "        _, predicted = torch.max(outputs, 1)\n",
    "        total += y_batch.size(0)\n",
    "        correct += (predicted == y_batch).sum().item()\n",
    "accuracy = correct / total\n",
    "print(f\"Location Prediction Exact Accuracy: {accuracy * 100:.1f}%\")"
   ],
   "id": "dfeb4b6ed7bdb0b",
   "outputs": [
    {
     "name": "stderr",
     "output_type": "stream",
     "text": [
      "C:\\Users\\wasif\\AppData\\Local\\Temp\\ipykernel_10360\\3496721207.py:2: FutureWarning: You are using `torch.load` with `weights_only=False` (the current default value), which uses the default pickle module implicitly. It is possible to construct malicious pickle data which will execute arbitrary code during unpickling (See https://github.com/pytorch/pytorch/blob/main/SECURITY.md#untrusted-models for more details). In a future release, the default value for `weights_only` will be flipped to `True`. This limits the functions that could be executed during unpickling. Arbitrary objects will no longer be allowed to be loaded via this mode unless they are explicitly allowlisted by the user via `torch.serialization.add_safe_globals`. We recommend you start setting `weights_only=True` for any use case where you don't have full control of the loaded file. Please open an issue on GitHub for any issues related to this experimental feature.\n",
      "  model_loc.load_state_dict(torch.load('location_model.pt'))\n"
     ]
    },
    {
     "name": "stdout",
     "output_type": "stream",
     "text": [
      "Location Prediction Exact Accuracy: 8.1%\n"
     ]
    }
   ],
   "execution_count": 29
  },
  {
   "metadata": {
    "ExecuteTime": {
     "end_time": "2025-05-26T17:23:38.349787Z",
     "start_time": "2025-05-26T17:23:23.302248Z"
    }
   },
   "cell_type": "code",
   "source": [
    "# Predict zip codes\n",
    "model_loc.eval()\n",
    "y_pred_loc = []\n",
    "y_true_loc = []\n",
    "with torch.no_grad():\n",
    "    for X_batch, y_batch in val_loader_loc:\n",
    "        outputs = model_loc(X_batch)\n",
    "        _, predicted = torch.max(outputs, 1)\n",
    "        y_pred_loc.extend(predicted.numpy())\n",
    "        y_true_loc.extend(y_batch.numpy())\n",
    "\n",
    "y_pred_loc = np.array(y_pred_loc)\n",
    "y_true_loc = np.array(y_true_loc)\n",
    "\n",
    "# Exact accuracy\n",
    "exact_matches = np.sum(y_pred_loc == y_true_loc)\n",
    "exact_accuracy = exact_matches / len(y_true_loc)\n",
    "print(f\"Exact Accuracy: {exact_accuracy * 100:.1f}%\")"
   ],
   "id": "8b21273dfce52eb8",
   "outputs": [
    {
     "name": "stdout",
     "output_type": "stream",
     "text": [
      "Exact Accuracy: 8.1%\n"
     ]
    }
   ],
   "execution_count": 30
  },
  {
   "metadata": {
    "ExecuteTime": {
     "end_time": "2025-05-26T17:22:52.500908Z",
     "start_time": "2025-05-26T17:22:52.492111Z"
    }
   },
   "cell_type": "code",
   "source": [
    "# Save models\n",
    "torch.save(model_crime.state_dict(), 'crime_type_model.pt')\n",
    "torch.save(model_loc.state_dict(), 'location_model.pt')"
   ],
   "id": "30b0d4e734ccaaa5",
   "outputs": [],
   "execution_count": 28
  },
  {
   "metadata": {},
   "cell_type": "code",
   "outputs": [],
   "execution_count": null,
   "source": "",
   "id": "d2c59982a4815e4d"
  }
 ],
 "metadata": {
  "kernelspec": {
   "display_name": "Python 3",
   "language": "python",
   "name": "python3"
  },
  "language_info": {
   "codemirror_mode": {
    "name": "ipython",
    "version": 2
   },
   "file_extension": ".py",
   "mimetype": "text/x-python",
   "name": "python",
   "nbconvert_exporter": "python",
   "pygments_lexer": "ipython2",
   "version": "2.7.6"
  }
 },
 "nbformat": 4,
 "nbformat_minor": 5
}
